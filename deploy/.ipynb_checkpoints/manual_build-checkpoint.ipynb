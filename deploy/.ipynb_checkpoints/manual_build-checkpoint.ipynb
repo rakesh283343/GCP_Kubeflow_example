{
 "cells": [
  {
   "cell_type": "code",
   "execution_count": 1,
   "metadata": {},
   "outputs": [],
   "source": [
    "#Deploy (see: https://cloud.google.com/ai-platform/prediction/docs/deploying-models?authuser=2)\n",
    "\n",
    "MODEL_VERSION=\"version4\"\n",
    "MODEL_NAME=\"kubeflow_test\"\n",
    "MODEL_PATH=\"gs://ai-vqc-kubeflow-output/model\" #it must contain a Tensorflow model saved in SavedModel directory\n",
    "FRAMEWORK=\"tensorflow\" #omit for custom deploy\n",
    "MODEL_PYTHON_VERSION=\"3.5\"\n",
    "MODEL_REGION=\"europe-west1\"\n",
    "MODEL_PREDICTION_CLASS=\"model_prediction.CustomModelPrediction\" #the name of your Predictor class\n",
    "RUNTIME_VERSION=\"1.14\"\n",
    "#MODEL_PACKAGE_URIS=\"gs://ai-vqc-kubeflow-components/routine/custom_prediction_routine-0.2.tar.gz\" #use for custom deploy"
   ]
  },
  {
   "cell_type": "code",
   "execution_count": null,
   "metadata": {},
   "outputs": [],
   "source": [
    "! gcloud ai-platform models create $MODEL_NAME --regions $REGION"
   ]
  },
  {
   "cell_type": "code",
   "execution_count": 3,
   "metadata": {},
   "outputs": [
    {
     "name": "stdout",
     "output_type": "stream",
     "text": [
      "\u001b[1;31mERROR:\u001b[0m (gcloud.ai-platform.versions.create) unrecognized arguments:\r\n",
      "  \r\n",
      " --package-uris flag is available in one or more alternate release tracks. Try:\r\n",
      "\r\n",
      "  gcloud alpha ai-platform versions create --package-uris\r\n",
      "  gcloud beta ai-platform versions create --package-uris\r\n",
      "  gs://ai-vqc-kubeflow-components/routine/custom_prediction_routine-0.2.tar.gz\r\n",
      "  To search the help text of gcloud commands, run:\r\n",
      "  gcloud help -- SEARCH_TERMS\r\n"
     ]
    }
   ],
   "source": [
    "! gcloud ai-platform versions create $MODEL_VERSION \\\n",
    "--model $MODEL_NAME \\\n",
    "--origin $MODEL_PATH \\\n",
    "--python-version $MODEL_PYTHON_VERSION \\\n",
    "--runtime-version $RUNTIME_VERSION \\\n",
    "--package-uris $MODEL_PACKAGE_URIS \\\n",
    "--framework $FRAMEWORK \\\n",
    "#--prediction-class $MODEL_PREDICTION_CLASS"
   ]
  },
  {
   "cell_type": "code",
   "execution_count": null,
   "metadata": {},
   "outputs": [],
   "source": []
  }
 ],
 "metadata": {
  "kernelspec": {
   "display_name": "Python 3",
   "language": "python",
   "name": "python3"
  },
  "language_info": {
   "codemirror_mode": {
    "name": "ipython",
    "version": 3
   },
   "file_extension": ".py",
   "mimetype": "text/x-python",
   "name": "python",
   "nbconvert_exporter": "python",
   "pygments_lexer": "ipython3",
   "version": "3.6.9"
  }
 },
 "nbformat": 4,
 "nbformat_minor": 4
}
