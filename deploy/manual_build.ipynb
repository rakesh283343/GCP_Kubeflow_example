{
 "cells": [
  {
   "cell_type": "code",
   "execution_count": 161,
   "metadata": {},
   "outputs": [],
   "source": [
    "#Deploy (see: https://cloud.google.com/ai-platform/prediction/docs/deploying-models?authuser=2)\n",
    "MODEL_VERSION=\"version4\"\n",
    "MODEL_NAME=\"kubeflow_test\"\n",
    "MODEL_PATH=\"gs://ai-vqc-kubeflow-output/model\" #it must contain a Tensorflow model saved in SavedModel directory\n",
    "FRAMEWORK=\"tensorflow\" #omit for custom deploy\n",
    "MODEL_PYTHON_VERSION=\"3.5\"\n",
    "MODEL_REGION=\"europe-west1\"\n",
    "RUNTIME_VERSION=\"1.14\""
   ]
  },
  {
   "cell_type": "code",
   "execution_count": null,
   "metadata": {},
   "outputs": [],
   "source": [
    "! gcloud ai-platform models create $MODEL_NAME --regions $REGION"
   ]
  },
  {
   "cell_type": "code",
   "execution_count": null,
   "metadata": {},
   "outputs": [],
   "source": [
    "#for tensorflow deploy\n",
    "! gcloud ai-platform versions create $MODEL_VERSION \\\n",
    "--model=$MODEL_NAME \\\n",
    "--origin=$MODEL_PATH \\\n",
    "--framework=$FRAMEWORK \\\n",
    "--python-version=$MODEL_PYTHON_VERSION \\\n",
    "--runtime-version=$RUNTIME_VERSION"
   ]
  },
  {
   "cell_type": "code",
   "execution_count": 199,
   "metadata": {},
   "outputs": [],
   "source": [
    "#for custom routines\n",
    "PROJECT_ID='ai-vqc'\n",
    "MODEL_NAME=\"kubeflow_test_log\"\n",
    "MODEL_VERSION=\"version1\"\n",
    "MODEL_PATH=\"gs://ai-vqc-kubeflow-output/model/\"\n",
    "MODEL_PYTHON_VERSION=\"3.5\"\n",
    "MODEL_REGION=\"europe-west1\"\n",
    "RUNTIME_VERSION=\"1.14\"\n",
    "MODEL_PACKAGE_URIS=\"gs://ai-vqc-kubeflow-components/routine/custom_prediction_routine-0.2.tar.gz\" #use for custom deploy\n",
    "MODEL_PREDICTION_CLASS=\"model_prediction.CustomModelPrediction\" #the name of your Predictor class"
   ]
  },
  {
   "cell_type": "code",
   "execution_count": 200,
   "metadata": {},
   "outputs": [
    {
     "name": "stdout",
     "output_type": "stream",
     "text": [
      "Created ml engine model [projects/ai-vqc/models/kubeflow_test_log].\r\n"
     ]
    }
   ],
   "source": [
    "#for custom routines\n",
    "! gcloud beta ai-platform models create $MODEL_NAME --regions $MODEL_REGION --enable-console-logging"
   ]
  },
  {
   "cell_type": "code",
   "execution_count": 201,
   "metadata": {},
   "outputs": [
    {
     "name": "stdout",
     "output_type": "stream",
     "text": [
      "Creating version (this might take a few minutes)......done.                    \n"
     ]
    }
   ],
   "source": [
    "#for custom routines\n",
    "#! gcloud components install beta\n",
    "! gcloud beta ai-platform versions create $MODEL_VERSION \\\n",
    "--model $MODEL_NAME \\\n",
    "--origin $MODEL_PATH \\\n",
    "--runtime-version=$RUNTIME_VERSION \\\n",
    "--python-version=$MODEL_PYTHON_VERSION \\\n",
    "--package-uris=$MODEL_PACKAGE_URIS \\\n",
    "--prediction-class=$MODEL_PREDICTION_CLASS"
   ]
  },
  {
   "cell_type": "code",
   "execution_count": 204,
   "metadata": {},
   "outputs": [
    {
     "name": "stdout",
     "output_type": "stream",
     "text": [
      "{\r\n",
      "  \"error\": \"Prediction failed: unknown error.\"\r\n",
      "}\r\n"
     ]
    }
   ],
   "source": [
    "#Invoke predictions (Bash)\n",
    "\n",
    "data='{\"instances\": [[0, 1, 2, 3, 5, 6, 7, 8, 9, 10, 11, 12]]}'\n",
    "import json\n",
    "with open('data.json', 'w', encoding='utf-8') as f:\n",
    "    json.dump(data, f, ensure_ascii=False, indent=4)\n",
    "INPUT_DATA_FILE='data.json'\n",
    "! gcloud beta ai-platform predict --model $MODEL_NAME --version $MODEL_VERSION --json-instances $INPUT_DATA_FILE"
   ]
  },
  {
   "cell_type": "code",
   "execution_count": 196,
   "metadata": {},
   "outputs": [
    {
     "ename": "RuntimeError",
     "evalue": "Prediction failed: unknown error.",
     "output_type": "error",
     "traceback": [
      "\u001b[0;31m---------------------------------------------------------------------------\u001b[0m",
      "\u001b[0;31mRuntimeError\u001b[0m                              Traceback (most recent call last)",
      "\u001b[0;32m<ipython-input-196-1978199d7f8a>\u001b[0m in \u001b[0;36m<module>\u001b[0;34m\u001b[0m\n\u001b[1;32m     16\u001b[0m \u001b[0;34m\u001b[0m\u001b[0m\n\u001b[1;32m     17\u001b[0m \u001b[0;32mif\u001b[0m \u001b[0;34m'error'\u001b[0m \u001b[0;32min\u001b[0m \u001b[0mresponse\u001b[0m\u001b[0;34m:\u001b[0m\u001b[0;34m\u001b[0m\u001b[0;34m\u001b[0m\u001b[0m\n\u001b[0;32m---> 18\u001b[0;31m     \u001b[0;32mraise\u001b[0m \u001b[0mRuntimeError\u001b[0m\u001b[0;34m(\u001b[0m\u001b[0mresponse\u001b[0m\u001b[0;34m[\u001b[0m\u001b[0;34m'error'\u001b[0m\u001b[0;34m]\u001b[0m\u001b[0;34m)\u001b[0m\u001b[0;34m\u001b[0m\u001b[0;34m\u001b[0m\u001b[0m\n\u001b[0m\u001b[1;32m     19\u001b[0m \u001b[0;32melse\u001b[0m\u001b[0;34m:\u001b[0m\u001b[0;34m\u001b[0m\u001b[0;34m\u001b[0m\u001b[0m\n\u001b[1;32m     20\u001b[0m   \u001b[0mprint\u001b[0m\u001b[0;34m(\u001b[0m\u001b[0mresponse\u001b[0m\u001b[0;34m[\u001b[0m\u001b[0;34m'predictions'\u001b[0m\u001b[0;34m]\u001b[0m\u001b[0;34m)\u001b[0m\u001b[0;34m\u001b[0m\u001b[0;34m\u001b[0m\u001b[0m\n",
      "\u001b[0;31mRuntimeError\u001b[0m: Prediction failed: unknown error."
     ]
    }
   ],
   "source": [
    "#Invoke prediction (Python)\n",
    "\n",
    "#!pip install --upgrade google-api-python-client\n",
    "\n",
    "import googleapiclient.discovery\n",
    "\n",
    "instances = [\n",
    "  [0, 1, 2, 3, 5, 6, 7, 8, 9, 10, 11, 12],\n",
    "  [0, 1, 2, 3, 5, 6, 7, 8, 9, 10, 11, 12],\n",
    "]\n",
    "\n",
    "service = googleapiclient.discovery.build('ml', 'v1')\n",
    "name = 'projects/{}/models/{}/versions/{}'.format(PROJECT_ID, MODEL_NAME, MODEL_VERSION)\n",
    "\n",
    "response = service.projects().predict(\n",
    "    name=name,\n",
    "    body={'instances': instances}\n",
    ").execute()\n",
    "\n",
    "\n",
    "if 'error' in response:\n",
    "    raise RuntimeError(response['error'])\n",
    "else:\n",
    "  print(response['predictions'])"
   ]
  },
  {
   "cell_type": "code",
   "execution_count": 184,
   "metadata": {},
   "outputs": [],
   "source": [
    "#TEST LOCAL\n",
    "%mkdir /home/jovyan/local_test\n",
    "%cd /home/jovyan/local_test\n",
    "\n",
    "#read data\n",
    "PROJECT='ai-vqc'\n",
    "BUCKET_NAME='ai-vqc-kubeflow-output/model'\n",
    "PREFIX=''\n",
    "FILENAME='keras_saved_model.h5'\n",
    "\n",
    "!gsutil cp gs://$BUCKET_NAME/$FILENAME .\n",
    "!ls -al\n",
    "\n",
    "import os\n",
    "import pickle\n",
    "import numpy as np\n",
    "import tensorflow as tf\n",
    "\n",
    "class CustomModelPrediction():\n",
    "\n",
    "  def __init__(self, model):\n",
    "    self._model = model\n",
    "    #self._processor = processor\n",
    "  \n",
    "  '''\n",
    "  def postprocess(self, predictions):\n",
    "    labeled_predictions = []\n",
    "\n",
    "    for prediction in predictions:\n",
    "      labeled_prediction = []\n",
    "      for word_prediction in prediction:\n",
    "        labeled_prediction.append(self._processor.labels[word_prediction])\n",
    "      labeled_predictions.append(labeled_prediction)\n",
    "\n",
    "    return labeled_predictions\n",
    "  '''\n",
    "  def predict(self, instances):\n",
    "    #transformed_instances = self._processor.transform(instances)\n",
    "    #predictions = self._model.predict(np.array(transformed_instances))\n",
    "    predictions = self._model.predict(np.array(instances))\n",
    "    #predictions = np.argmax(predictions, axis=-1).tolist()\n",
    "\n",
    "    #labels = self.postprocess(predictions)\n",
    "    #return labels\n",
    "    return predictions\n",
    "\n",
    "  @classmethod\n",
    "  def from_path(cls, model_dir):\n",
    "    model = tf.keras.models.load_model(os.path.join(model_dir, 'keras_saved_model.h5'))\n",
    "    #with open(os.path.join(model_dir, 'preprocessor.pkl'), 'rb') as f:\n",
    "    #  processor = pickle.load(f)\n",
    "\n",
    "    return cls(model)\n",
    "\n",
    "predictor_class = CustomModelPrediction(model)\n",
    "\n",
    "instances = [ #In keras, a None dimension means that it can be any scalar number, it just denotes that you are free to select the length (number of samples) of your input during testing\n",
    "  [0, 1, 2, 3, 5, 6, 7, 8, 9, 10, 11, 12],\n",
    "  [0, 1, 2, 3, 5, 6, 7, 8, 9, 10, 11, 12],\n",
    "]\n",
    "predictor_class.predict(instances)"
   ]
  },
  {
   "cell_type": "code",
   "execution_count": 154,
   "metadata": {},
   "outputs": [
    {
     "name": "stdout",
     "output_type": "stream",
     "text": [
      "Copying file://preprocessor.pkl [Content-Type=application/octet-stream]...\n",
      "/ [1 files][   67.0 B/   67.0 B]                                                \n",
      "Operation completed over 1 objects/67.0 B.                                       \n"
     ]
    }
   ],
   "source": [
    "#Export preprocess files\n",
    "import pickle\n",
    "scaler = MySimpleScaler()\n",
    "with open ('preprocessor.pkl', 'wb') as f:\n",
    "  pickle.dump(scaler, f)\n",
    "!gsutil cp preprocessor.pkl gs://$BUCKET_NAME"
   ]
  },
  {
   "cell_type": "code",
   "execution_count": null,
   "metadata": {},
   "outputs": [],
   "source": []
  }
 ],
 "metadata": {
  "kernelspec": {
   "display_name": "Python 3",
   "language": "python",
   "name": "python3"
  },
  "language_info": {
   "codemirror_mode": {
    "name": "ipython",
    "version": 3
   },
   "file_extension": ".py",
   "mimetype": "text/x-python",
   "name": "python",
   "nbconvert_exporter": "python",
   "pygments_lexer": "ipython3",
   "version": "3.6.9"
  }
 },
 "nbformat": 4,
 "nbformat_minor": 4
}
