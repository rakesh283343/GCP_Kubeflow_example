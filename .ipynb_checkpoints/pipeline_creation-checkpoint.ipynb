{
 "cells": [
  {
   "cell_type": "code",
   "execution_count": null,
   "metadata": {},
   "outputs": [],
   "source": [
    "#!pip3 install kfp"
   ]
  },
  {
   "cell_type": "code",
   "execution_count": null,
   "metadata": {},
   "outputs": [],
   "source": [
    "#To build from local (connectwith gcloud cli first)\n",
    "#kubectl config set-context $(kubectl config current-context) --namespace=kubeflow-rosario-laface"
   ]
  },
  {
   "cell_type": "code",
   "execution_count": 1,
   "metadata": {},
   "outputs": [],
   "source": [
    "import sys\n",
    "sys.path.insert(1, '/home/jovyan/.local/lib/python3.6/site-packages')\n",
    "#See https://www.kubeflow.org/docs/pipelines/sdk/component-development/\n",
    "import kfp\n",
    "from kfp import compiler\n",
    "import kfp.components as comp\n",
    "import kfp.dsl as dsl\n",
    "from kfp import gcp\n",
    "\n",
    "EXPERIMENT_NAME = 'kubeflow-test'\n",
    "BUCKET = \"ai-vqc-kubeflow\""
   ]
  },
  {
   "cell_type": "code",
   "execution_count": null,
   "metadata": {},
   "outputs": [],
   "source": [
    "#!gcloud source repos clone kubeflow-test --project=ai-vqc\n",
    "#!git -C kubeflow-test pull"
   ]
  },
  {
   "cell_type": "code",
   "execution_count": null,
   "metadata": {},
   "outputs": [
    {
     "name": "stdout",
     "output_type": "stream",
     "text": [
      "Creating gs://ai-vqc-kubeflow/...\n",
      "ServiceException: 409 Bucket ai-vqc-kubeflow already exists.\n",
      "\n",
      "Copy component specifications to Google Cloud Storage\n",
      "Removing gs://ai-vqc-kubeflow/components/train/component.yaml...\n",
      "/ [1 objects]                                                                   \n",
      "Operation completed over 1 objects.                                              \n",
      "Copying file://train/component.yaml [Content-Type=application/octet-stream]...\n",
      "/ [1 files][  394.0 B/  394.0 B]                                                \n",
      "Operation completed over 1 objects/394.0 B.                                      \n",
      "Updated ACL on gs://ai-vqc-kubeflow/components/train/component.yaml\n",
      "Removing gs://ai-vqc-kubeflow/components/deploy/component.yaml...\n",
      "/ [1 objects]                                                                   \n",
      "Operation completed over 1 objects.                                              \n"
     ]
    }
   ],
   "source": [
    "#Copy component definitions\n",
    "!./copy_specifications.sh ai-vqc-kubeflow ai-vqc\n",
    "\n",
    "#Preprocess\n",
    "#preprocess_operation = kfp.components.load_component_from_url('https://storage.googleapis.com/{}/components/preprocess/component.yaml'.format(BUCKET))\n",
    "#help(preprocess_operation)\n",
    "\n",
    "#Train\n",
    "train_operation = kfp.components.load_component_from_url('https://storage.googleapis.com/{}/components/train/component.yaml'.format(BUCKET))\n",
    "help(train_operation)\n",
    "\n",
    "#Deploy\n",
    "#ai_platform_deploy_operation = comp.load_component_from_url(\"https://storage.googleapis.com/{}/components/deploy/component.yaml\".format(BUCKET))\n",
    "#help(ai_platform_deploy_operation)"
   ]
  },
  {
   "cell_type": "code",
   "execution_count": null,
   "metadata": {},
   "outputs": [],
   "source": [
    "#Build the pipeline\n",
    "\n",
    "@dsl.pipeline(\n",
    "  name='Kubeflow Test Pipeline',\n",
    "  description='Performs preprocessing, training and deployment.'\n",
    ")\n",
    "def pipeline():\n",
    "    # Input name \"Input 1\" is converted to pythonic parameter name \"input_1\"\n",
    "    \n",
    "    #Preprocess\n",
    "    '''\n",
    "    preprocess_task = preprocess_operation(\n",
    "        input_1_uri='gs://kubeflow-examples-data/named_entity_recognition_dataset/ner.csv,\n",
    "        output_y_uri_template=\"gs://{}/{{workflow.uid}}/preprocess/y/data\".format(BUCKET),\n",
    "        output_x_uri_template=\"gs://{}/{{workflow.u        output_model_uri='/opt/ml/output/',\n",
    "id}}/preprocess/x/data\".format(BUCKET),\n",
    "        output_preprocessing_state_uri_template=\"gs://{}/{{workflow.uid}}/model\".format(BUCKET)\n",
    "    ).apply(kfp.gcp.use_gcp_secret('user-gcp-sa')) \n",
    "    '''\n",
    "    #Train\n",
    "    train_task = train_operation(\n",
    "        input_1='dpc-covid19-ita-regioni.csv',\n",
    "    ).apply(kfp.gcp.use_gcp_secret('user-gcp-sa'))\n",
    "    \n",
    "    '''\n",
    "    #Deploy\n",
    "    deploy_task = ai_platform_deploy_operation(\n",
    "        #output_model_uri= train_task.output,\n",
    "        model_name=\"kubeflow-test\",\n",
    "        model_region=\"europe-west1\",\n",
    "        model_version=\"version1\",\n",
    "        model_runtime_version=\"1.14\",\n",
    "        model_prediction_class=\"model_prediction.CustomModelPrediction\",\n",
    "        model_python_version=\"3.5\",\n",
    "        #model_package_uris=\"gs://{}/routine/custom_prediction_routine-0.2.tar.gz\".format(BUCKET)\n",
    "    ).apply(kfp.gcp.use_gcp_secret('user-gcp-sa'))\n",
    "    '''"
   ]
  },
  {
   "cell_type": "code",
   "execution_count": null,
   "metadata": {},
   "outputs": [],
   "source": [
    "#Compile the pipeline\n",
    "\n",
    "pipeline_func = pipeline\n",
    "pipeline_filename = pipeline_func.__name__ + '.pipeline.zip'\n",
    "\n",
    "import kfp.compiler as compiler\n",
    "compiler.Compiler().compile(pipeline_func, pipeline_filename)"
   ]
  },
  {
   "cell_type": "code",
   "execution_count": 8,
   "metadata": {},
   "outputs": [
    {
     "data": {
      "text/html": [
       "Experiment link <a href=\"/pipeline/#/experiments/details/319ba217-4d69-40f2-8708-fcf58fd4008d\" target=\"_blank\" >here</a>"
      ],
      "text/plain": [
       "<IPython.core.display.HTML object>"
      ]
     },
     "metadata": {},
     "output_type": "display_data"
    },
    {
     "name": "stdout",
     "output_type": "stream",
     "text": [
      "{'created_at': datetime.datetime(2020, 3, 11, 12, 45, 17, tzinfo=tzlocal()),\n",
      " 'description': None,\n",
      " 'id': '319ba217-4d69-40f2-8708-fcf58fd4008d',\n",
      " 'name': 'kubeflow-test'}\n"
     ]
    }
   ],
   "source": [
    "#Create Kubeflow experiment\n",
    "\n",
    "client = kfp.Client()\n",
    "\n",
    "try:\n",
    "    experiment = client.get_experiment(experiment_name=EXPERIMENT_NAME)\n",
    "except:\n",
    "    experiment = client.create_experiment(EXPERIMENT_NAME)\n",
    "    \n",
    "print(experiment)"
   ]
  },
  {
   "cell_type": "code",
   "execution_count": 9,
   "metadata": {},
   "outputs": [
    {
     "data": {
      "text/html": [
       "Run link <a href=\"/pipeline/#/runs/details/4281b540-57c4-4103-84c2-e07f1b4b7ff3\" target=\"_blank\" >here</a>"
      ],
      "text/plain": [
       "<IPython.core.display.HTML object>"
      ]
     },
     "metadata": {},
     "output_type": "display_data"
    },
    {
     "name": "stdout",
     "output_type": "stream",
     "text": [
      "319ba217-4d69-40f2-8708-fcf58fd4008d\n",
      "pipeline run\n",
      "pipeline.pipeline.zip\n",
      "{}\n"
     ]
    }
   ],
   "source": [
    "#Run the pipeline\n",
    "\n",
    "arguments = {}\n",
    "\n",
    "run_name = pipeline_func.__name__ + ' run'\n",
    "run_result = client.run_pipeline(experiment.id, \n",
    "                                 run_name, \n",
    "                                 pipeline_filename, \n",
    "                                 arguments)\n",
    "\n",
    "print(experiment.id)\n",
    "print(run_name)\n",
    "print(pipeline_filename)\n",
    "print(arguments)"
   ]
  },
  {
   "cell_type": "code",
   "execution_count": null,
   "metadata": {},
   "outputs": [],
   "source": []
  }
 ],
 "metadata": {
  "kernelspec": {
   "display_name": "Python 3",
   "language": "python",
   "name": "python3"
  },
  "language_info": {
   "codemirror_mode": {
    "name": "ipython",
    "version": 3
   },
   "file_extension": ".py",
   "mimetype": "text/x-python",
   "name": "python",
   "nbconvert_exporter": "python",
   "pygments_lexer": "ipython3",
   "version": "3.6.9"
  }
 },
 "nbformat": 4,
 "nbformat_minor": 4
}
