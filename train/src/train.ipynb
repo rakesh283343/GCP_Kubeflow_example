{
 "cells": [
  {
   "cell_type": "code",
   "execution_count": 1,
   "metadata": {},
   "outputs": [],
   "source": [
    "#download data\n",
    "try:\n",
    "    import urllib.request as urllib2\n",
    "except ImportError:\n",
    "    import urllib2\n",
    "csv_file = urllib2.urlopen(\"https://raw.githubusercontent.com/pcm-dpc/COVID-19/master/dati-regioni/dpc-covid19-ita-regioni.csv\")\n",
    "with open('dpc-covid19-ita-regioni.csv','wb') as output:\n",
    "  output.write(csv_file.read())"
   ]
  },
  {
   "cell_type": "code",
   "execution_count": 2,
   "metadata": {},
   "outputs": [],
   "source": [
    "local_path='/home/rosario/Codice/kubeflow-test/train/src/'\n",
    "#local_path='/opt/ml/code'"
   ]
  },
  {
   "cell_type": "code",
   "execution_count": 10,
   "metadata": {},
   "outputs": [],
   "source": [
    "\n",
    "import pandas\n",
    "from keras.models import Sequential\n",
    "from keras.layers import Dense\n",
    "from keras.wrappers.scikit_learn import KerasClassifier\n",
    "from keras.utils import np_utils\n",
    "from sklearn.model_selection import cross_val_score\n",
    "from sklearn.model_selection import KFold\n",
    "from sklearn.preprocessing import LabelEncoder\n",
    "from sklearn.pipeline import Pipeline\n",
    "import tensorflow as tf\n"
   ]
  },
  {
   "cell_type": "code",
   "execution_count": 4,
   "metadata": {},
   "outputs": [
    {
     "data": {
      "text/html": [
       "<div>\n",
       "<style scoped>\n",
       "    .dataframe tbody tr th:only-of-type {\n",
       "        vertical-align: middle;\n",
       "    }\n",
       "\n",
       "    .dataframe tbody tr th {\n",
       "        vertical-align: top;\n",
       "    }\n",
       "\n",
       "    .dataframe thead th {\n",
       "        text-align: right;\n",
       "    }\n",
       "</style>\n",
       "<table border=\"1\" class=\"dataframe\">\n",
       "  <thead>\n",
       "    <tr style=\"text-align: right;\">\n",
       "      <th></th>\n",
       "      <th>data</th>\n",
       "      <th>stato</th>\n",
       "      <th>codice_regione</th>\n",
       "      <th>denominazione_regione</th>\n",
       "      <th>lat</th>\n",
       "      <th>long</th>\n",
       "      <th>ricoverati_con_sintomi</th>\n",
       "      <th>terapia_intensiva</th>\n",
       "      <th>totale_ospedalizzati</th>\n",
       "      <th>isolamento_domiciliare</th>\n",
       "      <th>totale_attualmente_positivi</th>\n",
       "      <th>nuovi_attualmente_positivi</th>\n",
       "      <th>dimessi_guariti</th>\n",
       "      <th>deceduti</th>\n",
       "      <th>totale_casi</th>\n",
       "      <th>tamponi</th>\n",
       "    </tr>\n",
       "  </thead>\n",
       "  <tbody>\n",
       "    <tr>\n",
       "      <th>0</th>\n",
       "      <td>2020-02-24 18:00:00</td>\n",
       "      <td>ITA</td>\n",
       "      <td>13</td>\n",
       "      <td>Abruzzo</td>\n",
       "      <td>42.351222</td>\n",
       "      <td>13.398438</td>\n",
       "      <td>0</td>\n",
       "      <td>0</td>\n",
       "      <td>0</td>\n",
       "      <td>0</td>\n",
       "      <td>0</td>\n",
       "      <td>0</td>\n",
       "      <td>0</td>\n",
       "      <td>0</td>\n",
       "      <td>0</td>\n",
       "      <td>5</td>\n",
       "    </tr>\n",
       "    <tr>\n",
       "      <th>1</th>\n",
       "      <td>2020-02-24 18:00:00</td>\n",
       "      <td>ITA</td>\n",
       "      <td>17</td>\n",
       "      <td>Basilicata</td>\n",
       "      <td>40.639471</td>\n",
       "      <td>15.805148</td>\n",
       "      <td>0</td>\n",
       "      <td>0</td>\n",
       "      <td>0</td>\n",
       "      <td>0</td>\n",
       "      <td>0</td>\n",
       "      <td>0</td>\n",
       "      <td>0</td>\n",
       "      <td>0</td>\n",
       "      <td>0</td>\n",
       "      <td>0</td>\n",
       "    </tr>\n",
       "    <tr>\n",
       "      <th>2</th>\n",
       "      <td>2020-02-24 18:00:00</td>\n",
       "      <td>ITA</td>\n",
       "      <td>4</td>\n",
       "      <td>P.A. Bolzano</td>\n",
       "      <td>46.499335</td>\n",
       "      <td>11.356624</td>\n",
       "      <td>0</td>\n",
       "      <td>0</td>\n",
       "      <td>0</td>\n",
       "      <td>0</td>\n",
       "      <td>0</td>\n",
       "      <td>0</td>\n",
       "      <td>0</td>\n",
       "      <td>0</td>\n",
       "      <td>0</td>\n",
       "      <td>1</td>\n",
       "    </tr>\n",
       "    <tr>\n",
       "      <th>3</th>\n",
       "      <td>2020-02-24 18:00:00</td>\n",
       "      <td>ITA</td>\n",
       "      <td>18</td>\n",
       "      <td>Calabria</td>\n",
       "      <td>38.905976</td>\n",
       "      <td>16.594402</td>\n",
       "      <td>0</td>\n",
       "      <td>0</td>\n",
       "      <td>0</td>\n",
       "      <td>0</td>\n",
       "      <td>0</td>\n",
       "      <td>0</td>\n",
       "      <td>0</td>\n",
       "      <td>0</td>\n",
       "      <td>0</td>\n",
       "      <td>1</td>\n",
       "    </tr>\n",
       "    <tr>\n",
       "      <th>4</th>\n",
       "      <td>2020-02-24 18:00:00</td>\n",
       "      <td>ITA</td>\n",
       "      <td>15</td>\n",
       "      <td>Campania</td>\n",
       "      <td>40.839566</td>\n",
       "      <td>14.250850</td>\n",
       "      <td>0</td>\n",
       "      <td>0</td>\n",
       "      <td>0</td>\n",
       "      <td>0</td>\n",
       "      <td>0</td>\n",
       "      <td>0</td>\n",
       "      <td>0</td>\n",
       "      <td>0</td>\n",
       "      <td>0</td>\n",
       "      <td>10</td>\n",
       "    </tr>\n",
       "  </tbody>\n",
       "</table>\n",
       "</div>"
      ],
      "text/plain": [
       "                  data stato  codice_regione denominazione_regione        lat  \\\n",
       "0  2020-02-24 18:00:00   ITA              13               Abruzzo  42.351222   \n",
       "1  2020-02-24 18:00:00   ITA              17            Basilicata  40.639471   \n",
       "2  2020-02-24 18:00:00   ITA               4          P.A. Bolzano  46.499335   \n",
       "3  2020-02-24 18:00:00   ITA              18              Calabria  38.905976   \n",
       "4  2020-02-24 18:00:00   ITA              15              Campania  40.839566   \n",
       "\n",
       "        long  ricoverati_con_sintomi  terapia_intensiva  totale_ospedalizzati  \\\n",
       "0  13.398438                       0                  0                     0   \n",
       "1  15.805148                       0                  0                     0   \n",
       "2  11.356624                       0                  0                     0   \n",
       "3  16.594402                       0                  0                     0   \n",
       "4  14.250850                       0                  0                     0   \n",
       "\n",
       "   isolamento_domiciliare  totale_attualmente_positivi  \\\n",
       "0                       0                            0   \n",
       "1                       0                            0   \n",
       "2                       0                            0   \n",
       "3                       0                            0   \n",
       "4                       0                            0   \n",
       "\n",
       "   nuovi_attualmente_positivi  dimessi_guariti  deceduti  totale_casi  tamponi  \n",
       "0                           0                0         0            0        5  \n",
       "1                           0                0         0            0        0  \n",
       "2                           0                0         0            0        1  \n",
       "3                           0                0         0            0        1  \n",
       "4                           0                0         0            0       10  "
      ]
     },
     "execution_count": 4,
     "metadata": {},
     "output_type": "execute_result"
    }
   ],
   "source": [
    "# load dataset\n",
    "dataframe = pandas.read_csv(local_path+'dpc-covid19-ita-regioni.csv')\n",
    "dataset = dataframe.values\n",
    "dataframe.head()"
   ]
  },
  {
   "cell_type": "code",
   "execution_count": 5,
   "metadata": {},
   "outputs": [
    {
     "data": {
      "text/html": [
       "<div>\n",
       "<style scoped>\n",
       "    .dataframe tbody tr th:only-of-type {\n",
       "        vertical-align: middle;\n",
       "    }\n",
       "\n",
       "    .dataframe tbody tr th {\n",
       "        vertical-align: top;\n",
       "    }\n",
       "\n",
       "    .dataframe thead th {\n",
       "        text-align: right;\n",
       "    }\n",
       "</style>\n",
       "<table border=\"1\" class=\"dataframe\">\n",
       "  <thead>\n",
       "    <tr style=\"text-align: right;\">\n",
       "      <th></th>\n",
       "      <th>codice_regione</th>\n",
       "      <th>lat</th>\n",
       "      <th>long</th>\n",
       "      <th>ricoverati_con_sintomi</th>\n",
       "      <th>terapia_intensiva</th>\n",
       "      <th>totale_ospedalizzati</th>\n",
       "      <th>isolamento_domiciliare</th>\n",
       "      <th>totale_attualmente_positivi</th>\n",
       "      <th>nuovi_attualmente_positivi</th>\n",
       "      <th>dimessi_guariti</th>\n",
       "      <th>deceduti</th>\n",
       "      <th>tamponi</th>\n",
       "    </tr>\n",
       "  </thead>\n",
       "  <tbody>\n",
       "    <tr>\n",
       "      <th>0</th>\n",
       "      <td>13</td>\n",
       "      <td>42.351222</td>\n",
       "      <td>13.398438</td>\n",
       "      <td>0</td>\n",
       "      <td>0</td>\n",
       "      <td>0</td>\n",
       "      <td>0</td>\n",
       "      <td>0</td>\n",
       "      <td>0</td>\n",
       "      <td>0</td>\n",
       "      <td>0</td>\n",
       "      <td>5</td>\n",
       "    </tr>\n",
       "    <tr>\n",
       "      <th>1</th>\n",
       "      <td>17</td>\n",
       "      <td>40.639471</td>\n",
       "      <td>15.805148</td>\n",
       "      <td>0</td>\n",
       "      <td>0</td>\n",
       "      <td>0</td>\n",
       "      <td>0</td>\n",
       "      <td>0</td>\n",
       "      <td>0</td>\n",
       "      <td>0</td>\n",
       "      <td>0</td>\n",
       "      <td>0</td>\n",
       "    </tr>\n",
       "    <tr>\n",
       "      <th>2</th>\n",
       "      <td>4</td>\n",
       "      <td>46.499335</td>\n",
       "      <td>11.356624</td>\n",
       "      <td>0</td>\n",
       "      <td>0</td>\n",
       "      <td>0</td>\n",
       "      <td>0</td>\n",
       "      <td>0</td>\n",
       "      <td>0</td>\n",
       "      <td>0</td>\n",
       "      <td>0</td>\n",
       "      <td>1</td>\n",
       "    </tr>\n",
       "    <tr>\n",
       "      <th>3</th>\n",
       "      <td>18</td>\n",
       "      <td>38.905976</td>\n",
       "      <td>16.594402</td>\n",
       "      <td>0</td>\n",
       "      <td>0</td>\n",
       "      <td>0</td>\n",
       "      <td>0</td>\n",
       "      <td>0</td>\n",
       "      <td>0</td>\n",
       "      <td>0</td>\n",
       "      <td>0</td>\n",
       "      <td>1</td>\n",
       "    </tr>\n",
       "    <tr>\n",
       "      <th>4</th>\n",
       "      <td>15</td>\n",
       "      <td>40.839566</td>\n",
       "      <td>14.250850</td>\n",
       "      <td>0</td>\n",
       "      <td>0</td>\n",
       "      <td>0</td>\n",
       "      <td>0</td>\n",
       "      <td>0</td>\n",
       "      <td>0</td>\n",
       "      <td>0</td>\n",
       "      <td>0</td>\n",
       "      <td>10</td>\n",
       "    </tr>\n",
       "  </tbody>\n",
       "</table>\n",
       "</div>"
      ],
      "text/plain": [
       "   codice_regione        lat       long  ricoverati_con_sintomi  \\\n",
       "0              13  42.351222  13.398438                       0   \n",
       "1              17  40.639471  15.805148                       0   \n",
       "2               4  46.499335  11.356624                       0   \n",
       "3              18  38.905976  16.594402                       0   \n",
       "4              15  40.839566  14.250850                       0   \n",
       "\n",
       "   terapia_intensiva  totale_ospedalizzati  isolamento_domiciliare  \\\n",
       "0                  0                     0                       0   \n",
       "1                  0                     0                       0   \n",
       "2                  0                     0                       0   \n",
       "3                  0                     0                       0   \n",
       "4                  0                     0                       0   \n",
       "\n",
       "   totale_attualmente_positivi  nuovi_attualmente_positivi  dimessi_guariti  \\\n",
       "0                            0                           0                0   \n",
       "1                            0                           0                0   \n",
       "2                            0                           0                0   \n",
       "3                            0                           0                0   \n",
       "4                            0                           0                0   \n",
       "\n",
       "   deceduti  tamponi  \n",
       "0         0        5  \n",
       "1         0        0  \n",
       "2         0        1  \n",
       "3         0        1  \n",
       "4         0       10  "
      ]
     },
     "execution_count": 5,
     "metadata": {},
     "output_type": "execute_result"
    }
   ],
   "source": [
    "X = dataframe.drop(columns=['totale_casi']).drop(columns=['data']).drop(columns=['stato']).drop(columns=['denominazione_regione'])\n",
    "X.head()"
   ]
  },
  {
   "cell_type": "code",
   "execution_count": 6,
   "metadata": {},
   "outputs": [
    {
     "data": {
      "text/plain": [
       "(378, 12)"
      ]
     },
     "execution_count": 6,
     "metadata": {},
     "output_type": "execute_result"
    }
   ],
   "source": [
    "X.shape"
   ]
  },
  {
   "cell_type": "code",
   "execution_count": 7,
   "metadata": {},
   "outputs": [
    {
     "data": {
      "text/html": [
       "<div>\n",
       "<style scoped>\n",
       "    .dataframe tbody tr th:only-of-type {\n",
       "        vertical-align: middle;\n",
       "    }\n",
       "\n",
       "    .dataframe tbody tr th {\n",
       "        vertical-align: top;\n",
       "    }\n",
       "\n",
       "    .dataframe thead th {\n",
       "        text-align: right;\n",
       "    }\n",
       "</style>\n",
       "<table border=\"1\" class=\"dataframe\">\n",
       "  <thead>\n",
       "    <tr style=\"text-align: right;\">\n",
       "      <th></th>\n",
       "      <th>totale_casi</th>\n",
       "    </tr>\n",
       "  </thead>\n",
       "  <tbody>\n",
       "    <tr>\n",
       "      <th>0</th>\n",
       "      <td>0</td>\n",
       "    </tr>\n",
       "    <tr>\n",
       "      <th>1</th>\n",
       "      <td>0</td>\n",
       "    </tr>\n",
       "    <tr>\n",
       "      <th>2</th>\n",
       "      <td>0</td>\n",
       "    </tr>\n",
       "    <tr>\n",
       "      <th>3</th>\n",
       "      <td>0</td>\n",
       "    </tr>\n",
       "    <tr>\n",
       "      <th>4</th>\n",
       "      <td>0</td>\n",
       "    </tr>\n",
       "  </tbody>\n",
       "</table>\n",
       "</div>"
      ],
      "text/plain": [
       "   totale_casi\n",
       "0            0\n",
       "1            0\n",
       "2            0\n",
       "3            0\n",
       "4            0"
      ]
     },
     "execution_count": 7,
     "metadata": {},
     "output_type": "execute_result"
    }
   ],
   "source": [
    "Y = dataframe[['totale_casi']]\n",
    "Y.head()\n"
   ]
  },
  {
   "cell_type": "code",
   "execution_count": 8,
   "metadata": {},
   "outputs": [
    {
     "data": {
      "text/plain": [
       "array([[1., 0., 0., ..., 0., 0., 0.],\n",
       "       [1., 0., 0., ..., 0., 0., 0.],\n",
       "       [1., 0., 0., ..., 0., 0., 0.],\n",
       "       ...,\n",
       "       [0., 0., 0., ..., 0., 0., 0.],\n",
       "       [0., 0., 0., ..., 0., 0., 0.],\n",
       "       [0., 0., 0., ..., 0., 0., 0.]], dtype=float32)"
      ]
     },
     "execution_count": 8,
     "metadata": {},
     "output_type": "execute_result"
    }
   ],
   "source": [
    "from keras.utils import to_categorical\n",
    "Y_categorical=to_categorical(Y)\n",
    "Y_categorical"
   ]
  },
  {
   "cell_type": "code",
   "execution_count": 11,
   "metadata": {},
   "outputs": [
    {
     "name": "stdout",
     "output_type": "stream",
     "text": [
      "WARNING:tensorflow:From /home/rosario/.local/lib/python3.6/site-packages/tensorflow/python/ops/init_ops.py:1251: calling VarianceScaling.__init__ (from tensorflow.python.ops.init_ops) with dtype is deprecated and will be removed in a future version.\n",
      "Instructions for updating:\n",
      "Call initializer instance with the dtype argument instead of passing it to the constructor\n"
     ]
    }
   ],
   "source": [
    "model = tf.keras.Sequential()\n",
    "model.add(tf.keras.layers.Dense(512, activation='relu', input_dim=X.shape[1]))\n",
    "model.add(tf.keras.layers.Dense(256, activation='relu')) \n",
    "model.add(tf.keras.layers.Dense(128, activation='relu')) \n",
    "model.add(tf.keras.layers.Dense(Y_categorical.shape[1], activation='softmax'))"
   ]
  },
  {
   "cell_type": "code",
   "execution_count": 12,
   "metadata": {},
   "outputs": [],
   "source": [
    "model.compile(loss='categorical_crossentropy', optimizer='sgd', metrics=['accuracy'])"
   ]
  },
  {
   "cell_type": "code",
   "execution_count": 13,
   "metadata": {},
   "outputs": [
    {
     "name": "stdout",
     "output_type": "stream",
     "text": [
      "Epoch 1/10\n",
      "378/378 [==============================] - 1s 2ms/sample - loss: nan - acc: 0.0820                            \n",
      "Epoch 2/10\n",
      "378/378 [==============================] - 1s 2ms/sample - loss: nan - acc: 0.1931\n",
      "Epoch 3/10\n",
      "378/378 [==============================] - 0s 1ms/sample - loss: nan - acc: 0.1931\n",
      "Epoch 4/10\n",
      "378/378 [==============================] - 1s 2ms/sample - loss: nan - acc: 0.1931\n",
      "Epoch 5/10\n",
      "378/378 [==============================] - 1s 3ms/sample - loss: nan - acc: 0.1931\n",
      "Epoch 6/10\n",
      "378/378 [==============================] - 1s 3ms/sample - loss: nan - acc: 0.1931\n",
      "Epoch 7/10\n",
      "378/378 [==============================] - 1s 2ms/sample - loss: nan - acc: 0.1931\n",
      "Epoch 8/10\n",
      "378/378 [==============================] - 0s 1ms/sample - loss: nan - acc: 0.1931\n",
      "Epoch 9/10\n",
      "378/378 [==============================] - 0s 1ms/sample - loss: nan - acc: 0.1931\n",
      "Epoch 10/10\n",
      "378/378 [==============================] - 1s 1ms/sample - loss: nan - acc: 0.1931\n"
     ]
    },
    {
     "data": {
      "text/plain": [
       "<tensorflow.python.keras.callbacks.History at 0x7f303ab9b978>"
      ]
     },
     "execution_count": 13,
     "metadata": {},
     "output_type": "execute_result"
    }
   ],
   "source": [
    "model.fit(X, Y_categorical, epochs=10)"
   ]
  },
  {
   "cell_type": "code",
   "execution_count": 15,
   "metadata": {},
   "outputs": [
    {
     "name": "stdout",
     "output_type": "stream",
     "text": [
      "336/336 [==============================] - 0s 921us/step\n",
      "Loss sul test set: nan\n",
      "Accuracy sul test set: 0.2173\n"
     ]
    }
   ],
   "source": [
    "loss, acc = model.evaluate(X, Y_categorical) #creare il test dataset!!\n",
    "print(\"Loss sul test set: %.4f\" % loss)\n",
    "print(\"Accuracy sul test set: %.4f\" % acc)"
   ]
  },
  {
   "cell_type": "code",
   "execution_count": 36,
   "metadata": {},
   "outputs": [
    {
     "name": "stdout",
     "output_type": "stream",
     "text": [
      "WARNING:tensorflow:From /home/rosario/.local/lib/python3.6/site-packages/tensorflow/python/ops/init_ops.py:97: calling GlorotUniform.__init__ (from tensorflow.python.ops.init_ops) with dtype is deprecated and will be removed in a future version.\n",
      "Instructions for updating:\n",
      "Call initializer instance with the dtype argument instead of passing it to the constructor\n",
      "WARNING:tensorflow:From /home/rosario/.local/lib/python3.6/site-packages/tensorflow/python/ops/init_ops.py:97: calling Zeros.__init__ (from tensorflow.python.ops.init_ops) with dtype is deprecated and will be removed in a future version.\n",
      "Instructions for updating:\n",
      "Call initializer instance with the dtype argument instead of passing it to the constructor\n",
      "WARNING:tensorflow:From /home/rosario/.local/lib/python3.6/site-packages/tensorflow/python/saved_model/signature_def_utils_impl.py:253: build_tensor_info (from tensorflow.python.saved_model.utils_impl) is deprecated and will be removed in a future version.\n",
      "Instructions for updating:\n",
      "This function will only be available through the v1 compatibility library as tf.compat.v1.saved_model.utils.build_tensor_info or tf.compat.v1.saved_model.build_tensor_info.\n",
      "INFO:tensorflow:Signatures INCLUDED in export for Classify: None\n",
      "INFO:tensorflow:Signatures INCLUDED in export for Regress: None\n",
      "INFO:tensorflow:Signatures INCLUDED in export for Predict: None\n",
      "INFO:tensorflow:Signatures INCLUDED in export for Train: ['train']\n",
      "INFO:tensorflow:Signatures INCLUDED in export for Eval: None\n",
      "WARNING:tensorflow:Export includes no default signature!\n",
      "INFO:tensorflow:No assets to save.\n",
      "INFO:tensorflow:No assets to write.\n",
      "INFO:tensorflow:Signatures INCLUDED in export for Classify: None\n",
      "INFO:tensorflow:Signatures INCLUDED in export for Regress: None\n",
      "INFO:tensorflow:Signatures INCLUDED in export for Predict: None\n",
      "INFO:tensorflow:Signatures INCLUDED in export for Train: None\n",
      "INFO:tensorflow:Signatures INCLUDED in export for Eval: ['eval']\n",
      "WARNING:tensorflow:Export includes no default signature!\n",
      "INFO:tensorflow:No assets to save.\n",
      "INFO:tensorflow:No assets to write.\n",
      "INFO:tensorflow:Signatures INCLUDED in export for Classify: None\n",
      "INFO:tensorflow:Signatures INCLUDED in export for Regress: None\n",
      "INFO:tensorflow:Signatures INCLUDED in export for Predict: ['serving_default']\n",
      "INFO:tensorflow:Signatures INCLUDED in export for Train: None\n",
      "INFO:tensorflow:Signatures INCLUDED in export for Eval: None\n",
      "INFO:tensorflow:No assets to save.\n",
      "INFO:tensorflow:No assets to write.\n",
      "INFO:tensorflow:SavedModel written to: /home/rosario/Codice/kubeflow-test/train/src/model/saved_model.pb\n"
     ]
    }
   ],
   "source": [
    "import tensorflow as tf\n",
    "saved_to_path = tf.contrib.saved_model.save_keras_model(model, local_path+'model')"
   ]
  },
  {
   "cell_type": "code",
   "execution_count": 17,
   "metadata": {},
   "outputs": [
    {
     "name": "stdout",
     "output_type": "stream",
     "text": [
      "saved model to  /home/rosario/Codice/kubeflow-test/train/src/keras_model\n"
     ]
    }
   ],
   "source": [
    "from tensorflow.python.lib.io import file_io\n",
    "\n",
    "MODEL_FILE = 'keras_saved_model.h5'\n",
    "output_model_path='/home/rosario/Codice/kubeflow-test/train/src/keras_model' #from args\n",
    "\n",
    "print('saved model to ', output_model_path)\n",
    "model.save(MODEL_FILE)\n",
    "with file_io.FileIO(MODEL_FILE, mode='rb') as input_f:\n",
    "  with file_io.FileIO(output_model_path + '/' + MODEL_FILE, mode='wb+') as output_f:\n",
    "    output_f.write(input_f.read())"
   ]
  },
  {
   "cell_type": "code",
   "execution_count": null,
   "metadata": {},
   "outputs": [],
   "source": [
    "Path(output_model_path_file).parent.mkdir(parents=True, exist_ok=True)\n",
    "Path(output_model_path_file).write_text(args.output_model_path)"
   ]
  },
  {
   "cell_type": "code",
   "execution_count": 13,
   "metadata": {},
   "outputs": [
    {
     "name": "stdout",
     "output_type": "stream",
     "text": [
      "Linux\n",
      "/home/rosario/Codice/kubeflow-test/train/auth/ai-vqc-fb43ef70f5ec.json\n"
     ]
    }
   ],
   "source": [
    "#Create service account with permissions to read/write on Cloud storage bucket and get JSON\n",
    "import platform\n",
    "import os\n",
    "\n",
    "platform=platform.system()\n",
    "print(platform)\n",
    "if platform == 'Windows':\n",
    "    os.environ['GOOGLE_APPLICATION_CREDENTIALS']=r'C:\\Users\\lafacero\\Downloads\\ai-vqc-fb43ef70f5ec.json'\n",
    "elif platform == 'Linux':\n",
    "    os.environ['GOOGLE_APPLICATION_CREDENTIALS']='/home/rosario/Codice/kubeflow-test/train/auth/ai-vqc-fb43ef70f5ec.json'\n",
    "print(os.getenv('GOOGLE_APPLICATION_CREDENTIALS'))"
   ]
  },
  {
   "cell_type": "code",
   "execution_count": 16,
   "metadata": {},
   "outputs": [],
   "source": [
    "import os\n",
    "import glob\n",
    "from google.cloud import storage\n",
    "\n",
    "PROJECT='ai-vqc'\n",
    "BUCKET='ai-vqc-kubeflow-output'\n",
    "PREFIX=''\n",
    "FILENAME=local_path+'/model/'\n",
    "\n",
    "def copy_local_directory_to_gcs(local_path, bucket_name, gcs_path):\n",
    "    \"\"\"Recursively copy a directory of files to GCS.\n",
    "\n",
    "    local_path should be a directory and not have a trailing slash.\n",
    "    \"\"\"\n",
    "    assert os.path.isdir(local_path)\n",
    "    for local_file in glob.glob(local_path + '/**'):\n",
    "        if not os.path.isfile(local_file):\n",
    "            continue\n",
    "        storage_client = storage.Client()\n",
    "        bucket = storage_client.get_bucket(bucket_name)\n",
    "        remote_path = os.path.join(gcs_path, local_file[1 + len(local_path)-1 :])\n",
    "        blob = bucket.blob(remote_path)\n",
    "        blob.upload_from_filename(local_file)\n",
    "\n",
    "copy_local_directory_to_gcs(local_path+'/model/', BUCKET, 'model')"
   ]
  },
  {
   "cell_type": "code",
   "execution_count": null,
   "metadata": {},
   "outputs": [],
   "source": []
  }
 ],
 "metadata": {
  "kernelspec": {
   "display_name": "Python 3",
   "language": "python",
   "name": "python3"
  },
  "language_info": {
   "codemirror_mode": {
    "name": "ipython",
    "version": 3
   },
   "file_extension": ".py",
   "mimetype": "text/x-python",
   "name": "python",
   "nbconvert_exporter": "python",
   "pygments_lexer": "ipython3",
   "version": "3.6.9"
  }
 },
 "nbformat": 4,
 "nbformat_minor": 2
}
