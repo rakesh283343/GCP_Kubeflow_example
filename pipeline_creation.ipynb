{
 "cells": [
  {
   "cell_type": "code",
   "execution_count": null,
   "metadata": {},
   "outputs": [],
   "source": [
    "#!pip3 install kfp"
   ]
  },
  {
   "cell_type": "code",
   "execution_count": null,
   "metadata": {},
   "outputs": [],
   "source": [
    "#To build from local (connectwith gcloud cli first)\n",
    "#kubectl config set-context $(kubectl config current-context) --namespace=kubeflow-rosario-laface"
   ]
  },
  {
   "cell_type": "code",
   "execution_count": 123,
   "metadata": {},
   "outputs": [],
   "source": [
    "import sys\n",
    "sys.path.insert(1, '/home/jovyan/.local/lib/python3.6/site-packages')\n",
    "#See https://www.kubeflow.org/docs/pipelines/sdk/component-development/\n",
    "import kfp\n",
    "from kfp import compiler\n",
    "import kfp.components as comp\n",
    "import kfp.dsl as dsl\n",
    "from kfp import gcp\n",
    "\n",
    "EXPERIMENT_NAME = 'kubeflow-test'\n",
    "BUCKET = \"ai-vqc-kubeflow-components\"\n",
    "OUTPUT_BUCKET='ai-vqc-kubeflow-output'\n",
    "PROJECT='ai-vqc'"
   ]
  },
  {
   "cell_type": "code",
   "execution_count": 124,
   "metadata": {
    "scrolled": true
   },
   "outputs": [
    {
     "name": "stdout",
     "output_type": "stream",
     "text": [
      "M\t.ipynb_checkpoints/pipeline_creation-checkpoint.ipynb\n",
      "D\tdeploy/.ipynb_checkpoints/manual_build-checkpoint.ipynb\n",
      "M\tpipeline_creation.ipynb\n",
      "Already on 'develop'\n",
      "Your branch is up to date with 'origin/develop'.\n",
      "remote: Finding sources: 100% (5/5)\u001b[K\u001b[K\n",
      "remote: Total 5 (delta 4), reused 5 (delta 4)\u001b[K\n",
      "Unpacking objects: 100% (5/5), done.\n",
      "From https://source.developers.google.com/p/ai-vqc/r/kubeflow-test\n",
      "   c612c4a..c21af4d  develop    -> origin/develop\n",
      "Updating c612c4a..c21af4d\n",
      "Fast-forward\n",
      " train/src/train.py | 2 \u001b[32m+\u001b[m\u001b[31m-\u001b[m\n",
      " 1 file changed, 1 insertion(+), 1 deletion(-)\n"
     ]
    }
   ],
   "source": [
    "#!gcloud source repos clone kubeflow-test --project=ai-vqc\n",
    "#%cd kubeflow-test\n",
    "!git checkout develop\n",
    "!git pull\n",
    "#!git add . && git commit -m \"\" && git push"
   ]
  },
  {
   "cell_type": "code",
   "execution_count": 125,
   "metadata": {},
   "outputs": [],
   "source": [
    "#Docker build from SDK (see: https://www.kubeflow.org/docs/pipelines/sdk/sdk-overview/)\n",
    "#kfp.containers.build_image_from_working_dir(image_name='eu.gcr.io/ai-vqc/kubeflow_train:test', working_dir='/home/jovyan/kubeflow-test/train')\n",
    "#kfp.containers.build_image_from_working_dir(image_name='eu.gcr.io/ai-vqc/kubeflow_deploy:test', working_dir='/home/jovyan/kubeflow-test/deploy')"
   ]
  },
  {
   "cell_type": "code",
   "execution_count": 126,
   "metadata": {},
   "outputs": [
    {
     "name": "stdout",
     "output_type": "stream",
     "text": [
      "Creating gs://ai-vqc-kubeflow-components/...\n",
      "ServiceException: 409 Bucket ai-vqc-kubeflow-components already exists.\n",
      "\n",
      "Copy component specifications to Google Cloud Storage\n",
      "Removing gs://ai-vqc-kubeflow-components/components/train/component.yaml...\n",
      "/ [1 objects]                                                                   \n",
      "Operation completed over 1 objects.                                              \n",
      "Copying file://train/component.yaml [Content-Type=application/octet-stream]...\n",
      "/ [1 files][  603.0 B/  603.0 B]                                                \n",
      "Operation completed over 1 objects/603.0 B.                                      \n",
      "Updated ACL on gs://ai-vqc-kubeflow-components/components/train/component.yaml\n",
      "Removing gs://ai-vqc-kubeflow-components/components/deploy/component.yaml...\n",
      "/ [1 objects]                                                                   \n",
      "Operation completed over 1 objects.                                              \n",
      "Copying file://deploy/component.yaml [Content-Type=application/octet-stream]...\n",
      "/ [1 files][  1.6 KiB/  1.6 KiB]                                                \n",
      "Operation completed over 1 objects/1.6 KiB.                                      \n",
      "Updated ACL on gs://ai-vqc-kubeflow-components/components/deploy/component.yaml\n",
      "Help on function Train:\n",
      "\n",
      "Train(input_1, output_model:'GCSPath')\n",
      "    Train\n",
      "    Performs some training work.\n",
      "\n",
      "Help on function Deploy:\n",
      "\n",
      "Deploy(model_path:'GCSPath', model_name:str, model_region:str, model_version:str, model_runtime_version:str, model_prediction_class:str, model_python_version:str, model_package_uris:str)\n",
      "    Deploy\n",
      "    Deploy the model.\n",
      "\n"
     ]
    }
   ],
   "source": [
    "#Copy component definitions to GCS\n",
    "!./copy_specifications.sh $BUCKET $PROJECT\n",
    "\n",
    "#Don't forget to rebuild updated components with <component_folder>/build_image.sh\n",
    "\n",
    "#Preprocess\n",
    "#preprocess_operation = kfp.components.load_component_from_url('https://storage.googleapis.com/{}/components/preprocess/component.yaml'.format(BUCKET))\n",
    "#help(preprocess_operation)\n",
    "\n",
    "#Train\n",
    "train_operation = kfp.components.load_component_from_url('https://storage.googleapis.com/{}/components/train/component.yaml'.format(BUCKET))\n",
    "help(train_operation)\n",
    "\n",
    "#Deploy\n",
    "ai_platform_deploy_operation = comp.load_component_from_url(\"https://storage.googleapis.com/{}/components/deploy/component.yaml\".format(BUCKET))\n",
    "help(ai_platform_deploy_operation)"
   ]
  },
  {
   "cell_type": "code",
   "execution_count": 127,
   "metadata": {},
   "outputs": [],
   "source": [
    "#Build the pipeline components \n",
    "@dsl.pipeline(\n",
    "  name='Kubeflow Test Pipeline',\n",
    "  description='Performs preprocessing, training and deployment.'\n",
    ")\n",
    "def pipeline():\n",
    "    # Input name \"Input 1\" is converted to pythonic parameter name \"input_1\"\n",
    "    \n",
    "    #Preprocess\n",
    "    '''\n",
    "    preprocess_task = preprocess_operation(\n",
    "        input_1_uri='gs://kubeflow-examples-data/named_entity_recognition_dataset/ner.csv,\n",
    "        output_y_uri_template=\"gs://{}/{{workflow.uid}}/preprocess/y/data\".format(BUCKET),\n",
    "        output_x_uri_template=\"gs://{}/{{workflow.u        output_model_uri='/opt/ml/output/',\n",
    "id}}/preprocess/x/data\".format(BUCKET),\n",
    "        output_preprocessing_state_uri_template=\"gs://{}/{{workflow.uid}}/model\".format(BUCKET)\n",
    "    ).apply(kfp.gcp.use_gcp_secret('user-gcp-sa')) \n",
    "    '''\n",
    "    \n",
    "    #Train\n",
    "    train_task = train_operation(\n",
    "        input_1='dpc-covid19-ita-regioni.csv',\n",
    "        output_model=\"gs://{}/model\".format(OUTPUT_BUCKET),\n",
    "    ).apply(kfp.gcp.use_gcp_secret('user-gcp-sa'))\n",
    "    \n",
    "    \n",
    "    #Deploy\n",
    "    deploy_task = ai_platform_deploy_operation(\n",
    "        model_path=train_task.output,\n",
    "        model_name=\"kubeflow_test\",\n",
    "        model_region=\"europe-west1\",\n",
    "        model_version=\"version5\",\n",
    "        model_runtime_version=\"1.14\",\n",
    "        model_prediction_class=\"model_prediction.CustomModelPrediction\",\n",
    "        model_python_version=\"3.5\",\n",
    "        model_package_uris=\"gs://{}/routine/custom_prediction_routine-0.2.tar.gz\".format(BUCKET)\n",
    "    ).after(train_task).apply(kfp.gcp.use_gcp_secret('user-gcp-sa'))\n",
    "    "
   ]
  },
  {
   "cell_type": "code",
   "execution_count": 128,
   "metadata": {},
   "outputs": [],
   "source": [
    "#Compile the pipeline\n",
    "\n",
    "pipeline_func = pipeline\n",
    "pipeline_filename = pipeline_func.__name__ + '.pipeline.zip'\n",
    "\n",
    "import kfp.compiler as compiler\n",
    "compiler.Compiler().compile(pipeline_func, pipeline_filename) #compiles your Python domain-specific language (DSL) code into a single static configuration (in YAML format) that the Kubeflow Pipelines service can process."
   ]
  },
  {
   "cell_type": "code",
   "execution_count": 129,
   "metadata": {},
   "outputs": [
    {
     "name": "stdout",
     "output_type": "stream",
     "text": [
      "{'created_at': datetime.datetime(2020, 3, 11, 12, 45, 17, tzinfo=tzlocal()),\n",
      " 'description': None,\n",
      " 'id': '319ba217-4d69-40f2-8708-fcf58fd4008d',\n",
      " 'name': 'kubeflow-test'}\n"
     ]
    }
   ],
   "source": [
    "#Create Kubeflow experiment\n",
    "\n",
    "client = kfp.Client()\n",
    "\n",
    "try:\n",
    "    experiment = client.get_experiment(experiment_name=EXPERIMENT_NAME)\n",
    "except:\n",
    "    experiment = client.create_experiment(EXPERIMENT_NAME)\n",
    "    \n",
    "print(experiment)"
   ]
  },
  {
   "cell_type": "code",
   "execution_count": 130,
   "metadata": {},
   "outputs": [
    {
     "data": {
      "text/html": [
       "Run link <a href=\"/pipeline/#/runs/details/a2e868ae-30ec-4298-9a23-e779a6f3723e\" target=\"_blank\" >here</a>"
      ],
      "text/plain": [
       "<IPython.core.display.HTML object>"
      ]
     },
     "metadata": {},
     "output_type": "display_data"
    },
    {
     "name": "stdout",
     "output_type": "stream",
     "text": [
      "319ba217-4d69-40f2-8708-fcf58fd4008d\n",
      "pipeline run\n",
      "pipeline.pipeline.zip\n",
      "{}\n"
     ]
    }
   ],
   "source": [
    "#Run the pipeline\n",
    "\n",
    "arguments = {}\n",
    "\n",
    "run_name = pipeline_func.__name__ + ' run'\n",
    "run_result = client.run_pipeline(experiment.id, \n",
    "                                 run_name, \n",
    "                                 pipeline_filename, \n",
    "                                 arguments)\n",
    "\n",
    "print(experiment.id)\n",
    "print(run_name)\n",
    "print(pipeline_filename)\n",
    "print(arguments)"
   ]
  },
  {
   "cell_type": "code",
   "execution_count": null,
   "metadata": {},
   "outputs": [],
   "source": []
  }
 ],
 "metadata": {
  "kernelspec": {
   "display_name": "Python 3",
   "language": "python",
   "name": "python3"
  },
  "language_info": {
   "codemirror_mode": {
    "name": "ipython",
    "version": 3
   },
   "file_extension": ".py",
   "mimetype": "text/x-python",
   "name": "python",
   "nbconvert_exporter": "python",
   "pygments_lexer": "ipython3",
   "version": "3.6.9"
  }
 },
 "nbformat": 4,
 "nbformat_minor": 4
}
