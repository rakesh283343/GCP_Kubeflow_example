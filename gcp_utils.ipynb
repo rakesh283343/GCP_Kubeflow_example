{
 "cells": [
  {
   "cell_type": "code",
   "execution_count": 1,
   "metadata": {},
   "outputs": [],
   "source": [
    "#install SDK\n",
    "#!pip3 install --upgrade google-cloud-storage"
   ]
  },
  {
   "cell_type": "code",
   "execution_count": 3,
   "metadata": {
    "scrolled": true
   },
   "outputs": [],
   "source": [
    "from google.cloud import storage"
   ]
  },
  {
   "cell_type": "code",
   "execution_count": 7,
   "metadata": {},
   "outputs": [
    {
     "name": "stdout",
     "output_type": "stream",
     "text": [
      "Linux\n",
      "/home/rosario/Codice/GCP_Kubeflow_example/auth/ai-vqc-fb43ef70f5ec.json\n"
     ]
    }
   ],
   "source": [
    "#Create service account with permissions to read/write on Cloud storage bucket and get JSON\n",
    "import platform\n",
    "import os\n",
    "\n",
    "platform=platform.system()\n",
    "print(platform)\n",
    "if platform == 'Windows':\n",
    "    os.environ['GOOGLE_APPLICATION_CREDENTIALS']=r'C:\\Users\\lafacero\\Downloads\\ai-vqc-fb43ef70f5ec.json'\n",
    "elif platform == 'Linux':\n",
    "    os.environ['GOOGLE_APPLICATION_CREDENTIALS']='/home/rosario/Codice/GCP_Kubeflow_example/auth/ai-vqc-fb43ef70f5ec.json'\n",
    "print(os.getenv('GOOGLE_APPLICATION_CREDENTIALS'))"
   ]
  },
  {
   "cell_type": "code",
   "execution_count": 29,
   "metadata": {},
   "outputs": [],
   "source": [
    "#connect to Google Cloud Storage and retrieve data\n",
    "#read data\n",
    "PROJECT='ai-vqc'\n",
    "BUCKET='ai-vqc-kubeflow-test'\n",
    "PREFIX=''\n",
    "FILENAME='test.h5'\n",
    "\n",
    "storage_client = storage.Client()\n",
    "bucket = storage_client.bucket(BUCKET)\n",
    "blob = bucket.blob(PREFIX+FILENAME)\n",
    "blob.download_to_filename(FILENAME)"
   ]
  },
  {
   "cell_type": "code",
   "execution_count": 10,
   "metadata": {},
   "outputs": [],
   "source": [
    "#write data\n",
    "PROJECT='ai-vqc'\n",
    "BUCKET='ai-vqc-kubeflow-output'\n",
    "PREFIX=''\n",
    "FILENAME='test.h5'\n",
    "\n",
    "storage_client = storage.Client()\n",
    "bucket = storage_client.get_bucket(BUCKET)\n",
    "blob = bucket.blob(FILENAME)\n",
    "blob.upload_from_filename(FILENAME)"
   ]
  },
  {
   "cell_type": "code",
   "execution_count": 14,
   "metadata": {},
   "outputs": [
    {
     "name": "stderr",
     "output_type": "stream",
     "text": [
      "Using TensorFlow backend.\n",
      "/home/rosario/.local/lib/python3.6/site-packages/tensorflow/python/framework/dtypes.py:516: FutureWarning: Passing (type, 1) or '1type' as a synonym of type is deprecated; in a future version of numpy, it will be understood as (type, (1,)) / '(1,)type'.\n",
      "  _np_qint8 = np.dtype([(\"qint8\", np.int8, 1)])\n",
      "/home/rosario/.local/lib/python3.6/site-packages/tensorflow/python/framework/dtypes.py:517: FutureWarning: Passing (type, 1) or '1type' as a synonym of type is deprecated; in a future version of numpy, it will be understood as (type, (1,)) / '(1,)type'.\n",
      "  _np_quint8 = np.dtype([(\"quint8\", np.uint8, 1)])\n",
      "/home/rosario/.local/lib/python3.6/site-packages/tensorflow/python/framework/dtypes.py:518: FutureWarning: Passing (type, 1) or '1type' as a synonym of type is deprecated; in a future version of numpy, it will be understood as (type, (1,)) / '(1,)type'.\n",
      "  _np_qint16 = np.dtype([(\"qint16\", np.int16, 1)])\n",
      "/home/rosario/.local/lib/python3.6/site-packages/tensorflow/python/framework/dtypes.py:519: FutureWarning: Passing (type, 1) or '1type' as a synonym of type is deprecated; in a future version of numpy, it will be understood as (type, (1,)) / '(1,)type'.\n",
      "  _np_quint16 = np.dtype([(\"quint16\", np.uint16, 1)])\n",
      "/home/rosario/.local/lib/python3.6/site-packages/tensorflow/python/framework/dtypes.py:520: FutureWarning: Passing (type, 1) or '1type' as a synonym of type is deprecated; in a future version of numpy, it will be understood as (type, (1,)) / '(1,)type'.\n",
      "  _np_qint32 = np.dtype([(\"qint32\", np.int32, 1)])\n",
      "/home/rosario/.local/lib/python3.6/site-packages/tensorflow/python/framework/dtypes.py:525: FutureWarning: Passing (type, 1) or '1type' as a synonym of type is deprecated; in a future version of numpy, it will be understood as (type, (1,)) / '(1,)type'.\n",
      "  np_resource = np.dtype([(\"resource\", np.ubyte, 1)])\n",
      "/home/rosario/.local/lib/python3.6/site-packages/tensorboard/compat/tensorflow_stub/dtypes.py:541: FutureWarning: Passing (type, 1) or '1type' as a synonym of type is deprecated; in a future version of numpy, it will be understood as (type, (1,)) / '(1,)type'.\n",
      "  _np_qint8 = np.dtype([(\"qint8\", np.int8, 1)])\n",
      "/home/rosario/.local/lib/python3.6/site-packages/tensorboard/compat/tensorflow_stub/dtypes.py:542: FutureWarning: Passing (type, 1) or '1type' as a synonym of type is deprecated; in a future version of numpy, it will be understood as (type, (1,)) / '(1,)type'.\n",
      "  _np_quint8 = np.dtype([(\"quint8\", np.uint8, 1)])\n",
      "/home/rosario/.local/lib/python3.6/site-packages/tensorboard/compat/tensorflow_stub/dtypes.py:543: FutureWarning: Passing (type, 1) or '1type' as a synonym of type is deprecated; in a future version of numpy, it will be understood as (type, (1,)) / '(1,)type'.\n",
      "  _np_qint16 = np.dtype([(\"qint16\", np.int16, 1)])\n",
      "/home/rosario/.local/lib/python3.6/site-packages/tensorboard/compat/tensorflow_stub/dtypes.py:544: FutureWarning: Passing (type, 1) or '1type' as a synonym of type is deprecated; in a future version of numpy, it will be understood as (type, (1,)) / '(1,)type'.\n",
      "  _np_quint16 = np.dtype([(\"quint16\", np.uint16, 1)])\n",
      "/home/rosario/.local/lib/python3.6/site-packages/tensorboard/compat/tensorflow_stub/dtypes.py:545: FutureWarning: Passing (type, 1) or '1type' as a synonym of type is deprecated; in a future version of numpy, it will be understood as (type, (1,)) / '(1,)type'.\n",
      "  _np_qint32 = np.dtype([(\"qint32\", np.int32, 1)])\n",
      "/home/rosario/.local/lib/python3.6/site-packages/tensorboard/compat/tensorflow_stub/dtypes.py:550: FutureWarning: Passing (type, 1) or '1type' as a synonym of type is deprecated; in a future version of numpy, it will be understood as (type, (1,)) / '(1,)type'.\n",
      "  np_resource = np.dtype([(\"resource\", np.ubyte, 1)])\n"
     ]
    }
   ],
   "source": [
    "import pandas\n",
    "from keras.models import Sequential\n",
    "from keras.layers import Dense\n",
    "from keras.wrappers.scikit_learn import KerasClassifier\n",
    "from keras.utils import np_utils\n",
    "#from sklearn.model_selection import cross_val_score\n",
    "#from sklearn.model_selection import KFold\n",
    "#from sklearn.preprocessing import LabelEncoder\n",
    "#from sklearn.pipeline import Pipeline\n",
    "from keras.utils import to_categorical\n",
    "import argparse\n",
    "from pathlib import Path\n",
    "from google.cloud import storage\n",
    "\n"
   ]
  },
  {
   "cell_type": "code",
   "execution_count": 22,
   "metadata": {},
   "outputs": [],
   "source": [
    "PROJECT='ai-vqc'\n",
    "INPUT_BUCKET='ai-vqc-kubeflow-test'\n",
    "OUTPUT_BUCKET='ai-vqc-kubeflow-output'\n",
    "PREFIX=''\n",
    "\n",
    "def read_from_gcs(filename, path):\n",
    "    storage_client = storage.Client()\n",
    "    bucket = storage_client.bucket(INPUT_BUCKET)\n",
    "    print(PREFIX+filename)\n",
    "    blob = bucket.blob(PREFIX+filename)\n",
    "    print(path+filename)\n",
    "    blob.download_to_filename(path+filename)\n",
    "\n",
    "def write_to_gcs(filename, path):\n",
    "    \"\"\"Uploads a file to the bucket.\"\"\"\n",
    "    storage_client = storage.Client()\n",
    "    bucket = storage_client.get_bucket(OUTPUT_BUCKET)\n",
    "    blob = bucket.blob(filename)\n",
    "    blob.upload_from_filename(path+filename)\n",
    "    print(path+filename, \" written to \", OUTPUT_BUCKET, \" bucket.\")\n",
    "\n",
    "def train(input_path, output):\n",
    "    # load dataset\n",
    "    print(input_path)\n",
    "    dataframe = pandas.read_csv(input_path, error_bad_lines=False)\n",
    "    dataframe.head()\n",
    "    #dataset = dataframe.values\n",
    "    #dataframe.head()\n",
    "\n",
    "    X = dataframe.drop(columns=['totale_casi']).drop(columns=['data']).drop(columns=['stato']).drop(columns=['denominazione_regione'])\n",
    "    Y = dataframe[['totale_casi']]\n",
    "    Y_categorical=to_categorical(Y)\n",
    "\n",
    "    model = Sequential()\n",
    "    model.add(Dense(512, activation='relu', input_dim=X.shape[1]))\n",
    "    model.add(Dense(256, activation='relu')) \n",
    "    model.add(Dense(128, activation='relu')) \n",
    "    model.add(Dense(Y_categorical.shape[1], activation='softmax'))\n",
    "    model.compile(loss='categorical_crossentropy', optimizer='sgd', metrics=['accuracy'])\n",
    "    model.fit(X, Y_categorical, epochs=10)\n",
    "\n",
    "    model.save(output)\n",
    "\n"
   ]
  },
  {
   "cell_type": "code",
   "execution_count": 26,
   "metadata": {},
   "outputs": [
    {
     "name": "stdout",
     "output_type": "stream",
     "text": [
      "dpc-covid19-ita-regioni.csv\n",
      "/home/rosario/Codice/GCP_Kubeflow_example/train/src/data/dpc-covid19-ita-regioni.csv\n",
      "/home/rosario/Codice/GCP_Kubeflow_example/train/src/data/dpc-covid19-ita-regioni.csv\n",
      "Epoch 1/10\n",
      "294/294 [==============================] - 1s 2ms/step - loss: nan - accuracy: 0.0204                      \n",
      "Epoch 2/10\n",
      "294/294 [==============================] - 0s 1ms/step - loss: nan - accuracy: 0.2483\n",
      "Epoch 3/10\n",
      "294/294 [==============================] - 0s 882us/step - loss: nan - accuracy: 0.2483\n",
      "Epoch 4/10\n",
      "294/294 [==============================] - 1s 2ms/step - loss: nan - accuracy: 0.2483\n",
      "Epoch 5/10\n",
      "294/294 [==============================] - 0s 2ms/step - loss: nan - accuracy: 0.2483\n",
      "Epoch 6/10\n",
      "294/294 [==============================] - 0s 982us/step - loss: nan - accuracy: 0.2483\n",
      "Epoch 7/10\n",
      "294/294 [==============================] - 0s 2ms/step - loss: nan - accuracy: 0.2483\n",
      "Epoch 8/10\n",
      "294/294 [==============================] - 0s 1ms/step - loss: nan - accuracy: 0.2483\n",
      "Epoch 9/10\n",
      "294/294 [==============================] - 0s 1ms/step - loss: nan - accuracy: 0.2483\n",
      "Epoch 10/10\n",
      "294/294 [==============================] - 0s 1ms/step - loss: nan - accuracy: 0.2483\n",
      "/home/rosario/Codice/GCP_Kubeflow_example/train/src/data/model.h5  written to  ai-vqc-kubeflow-output  bucket.\n"
     ]
    }
   ],
   "source": [
    "input_filename='dpc-covid19-ita-regioni.csv'\n",
    "output_filename='model.h5'\n",
    "input_data=read_from_gcs(input_filename, '/home/rosario/Codice/GCP_Kubeflow_example/train/src/data/')\n",
    "train(r'/home/rosario/Codice/GCP_Kubeflow_example/train/src/data/'+input_filename, r'/home/rosario/Codice/GCP_Kubeflow_example/train/src/data/'+output_filename)\n",
    "write_to_gcs(output_filename, r'/home/rosario/Codice/GCP_Kubeflow_example/train/src/data/')"
   ]
  }
 ],
 "metadata": {
  "kernelspec": {
   "display_name": "Python 3",
   "language": "python",
   "name": "python3"
  },
  "language_info": {
   "codemirror_mode": {
    "name": "ipython",
    "version": 3
   },
   "file_extension": ".py",
   "mimetype": "text/x-python",
   "name": "python",
   "nbconvert_exporter": "python",
   "pygments_lexer": "ipython3",
   "version": "3.6.9"
  }
 },
 "nbformat": 4,
 "nbformat_minor": 2
}
